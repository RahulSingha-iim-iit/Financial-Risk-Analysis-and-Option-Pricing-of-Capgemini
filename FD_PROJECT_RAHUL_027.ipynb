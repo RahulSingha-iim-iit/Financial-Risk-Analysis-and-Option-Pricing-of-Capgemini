{
  "nbformat": 4,
  "nbformat_minor": 0,
  "metadata": {
    "colab": {
      "provenance": []
    },
    "kernelspec": {
      "name": "python3",
      "display_name": "Python 3"
    },
    "language_info": {
      "name": "python"
    }
  },
  "cells": [
    {
      "cell_type": "code",
      "execution_count": null,
      "metadata": {
        "colab": {
          "base_uri": "https://localhost:8080/"
        },
        "id": "8N14lWNuLwBK",
        "outputId": "838873ee-8b43-4591-c0c8-9f463d9eb4e6"
      },
      "outputs": [
        {
          "output_type": "stream",
          "name": "stderr",
          "text": [
            "\r[*********************100%***********************]  1 of 1 completed\n"
          ]
        }
      ],
      "source": [
        "import yfinance as yf\n",
        "\n",
        "# Download historical data for INFY.NS\n",
        "data = yf.download(\"CAP.PA\", period=\"max\")\n",
        "\n",
        "# Save data to a CSV file\n",
        "data.to_csv(\"CAP.PA_historical_data.csv\")"
      ]
    },
    {
      "cell_type": "code",
      "source": [
        "!pip install arch"
      ],
      "metadata": {
        "colab": {
          "base_uri": "https://localhost:8080/"
        },
        "id": "89i-fVLaS4uJ",
        "outputId": "a71b60df-afed-48e9-a25c-6cb9d991cfd9"
      },
      "execution_count": null,
      "outputs": [
        {
          "output_type": "stream",
          "name": "stdout",
          "text": [
            "Requirement already satisfied: arch in /usr/local/lib/python3.10/dist-packages (7.2.0)\n",
            "Requirement already satisfied: numpy>=1.22.3 in /usr/local/lib/python3.10/dist-packages (from arch) (1.26.4)\n",
            "Requirement already satisfied: scipy>=1.8 in /usr/local/lib/python3.10/dist-packages (from arch) (1.13.1)\n",
            "Requirement already satisfied: pandas>=1.4 in /usr/local/lib/python3.10/dist-packages (from arch) (2.2.2)\n",
            "Requirement already satisfied: statsmodels>=0.12 in /usr/local/lib/python3.10/dist-packages (from arch) (0.14.4)\n",
            "Requirement already satisfied: python-dateutil>=2.8.2 in /usr/local/lib/python3.10/dist-packages (from pandas>=1.4->arch) (2.8.2)\n",
            "Requirement already satisfied: pytz>=2020.1 in /usr/local/lib/python3.10/dist-packages (from pandas>=1.4->arch) (2024.2)\n",
            "Requirement already satisfied: tzdata>=2022.7 in /usr/local/lib/python3.10/dist-packages (from pandas>=1.4->arch) (2024.2)\n",
            "Requirement already satisfied: patsy>=0.5.6 in /usr/local/lib/python3.10/dist-packages (from statsmodels>=0.12->arch) (1.0.1)\n",
            "Requirement already satisfied: packaging>=21.3 in /usr/local/lib/python3.10/dist-packages (from statsmodels>=0.12->arch) (24.2)\n",
            "Requirement already satisfied: six>=1.5 in /usr/local/lib/python3.10/dist-packages (from python-dateutil>=2.8.2->pandas>=1.4->arch) (1.16.0)\n"
          ]
        }
      ]
    },
    {
      "cell_type": "markdown",
      "source": [
        "#Step 1: Load and Clean the Data"
      ],
      "metadata": {
        "id": "YbfWbs5hakJV"
      }
    },
    {
      "cell_type": "code",
      "source": [
        "import pandas as pd\n",
        "import numpy as np\n",
        "import matplotlib.pyplot as plt\n",
        "import seaborn as sns\n",
        "from scipy.stats import probplot, jarque_bera, kstest, norm\n",
        "from statsmodels.tsa.stattools import adfuller\n",
        "from arch import arch_model # This line should work now\n",
        "from scipy.stats import normaltest\n",
        "from math import log, sqrt, exp\n",
        "from scipy.stats import norm\n"
      ],
      "metadata": {
        "id": "1cDG6MRcSy77"
      },
      "execution_count": null,
      "outputs": []
    },
    {
      "cell_type": "code",
      "source": [
        "import pandas as pd\n",
        "\n",
        "# Load the dataset and parse the date column\n",
        "data = pd.read_csv(\"/content/CAP.PA_historical_data.csv\")\n",
        "\n",
        "# # Rename columns for better understanding\n",
        "# data.columns = ['Adj Close', 'Close', 'High', 'Low', 'Open', 'Volume']\n",
        "\n",
        "# Display the first few rows\n",
        "data.head()\n"
      ],
      "metadata": {
        "colab": {
          "base_uri": "https://localhost:8080/",
          "height": 206
        },
        "id": "Qd8fiUZeUFGu",
        "outputId": "c784b74e-1612-48f1-98e5-c3c18bc2428d"
      },
      "execution_count": null,
      "outputs": [
        {
          "output_type": "execute_result",
          "data": {
            "text/plain": [
              "                       Price           Adj Close               Close  \\\n",
              "0                     Ticker              CAP.PA              CAP.PA   \n",
              "1                       Date                 NaN                 NaN   \n",
              "2  2000-01-03 00:00:00+00:00  155.20037841796875  255.89999389648438   \n",
              "3  2000-01-04 00:00:00+00:00  143.85906982421875   237.1999969482422   \n",
              "4  2000-01-05 00:00:00+00:00  129.66726684570312   213.8000030517578   \n",
              "\n",
              "                 High                 Low                Open  Volume  \n",
              "0              CAP.PA              CAP.PA              CAP.PA  CAP.PA  \n",
              "1                 NaN                 NaN                 NaN     NaN  \n",
              "2  274.79998779296875  255.89999389648438  258.20001220703125  492603  \n",
              "3               257.0  236.60000610351562               257.0  357912  \n",
              "4               230.0               212.0  229.10000610351562  784213  "
            ],
            "text/html": [
              "\n",
              "  <div id=\"df-55a75520-9266-4aba-b680-89e386717106\" class=\"colab-df-container\">\n",
              "    <div>\n",
              "<style scoped>\n",
              "    .dataframe tbody tr th:only-of-type {\n",
              "        vertical-align: middle;\n",
              "    }\n",
              "\n",
              "    .dataframe tbody tr th {\n",
              "        vertical-align: top;\n",
              "    }\n",
              "\n",
              "    .dataframe thead th {\n",
              "        text-align: right;\n",
              "    }\n",
              "</style>\n",
              "<table border=\"1\" class=\"dataframe\">\n",
              "  <thead>\n",
              "    <tr style=\"text-align: right;\">\n",
              "      <th></th>\n",
              "      <th>Price</th>\n",
              "      <th>Adj Close</th>\n",
              "      <th>Close</th>\n",
              "      <th>High</th>\n",
              "      <th>Low</th>\n",
              "      <th>Open</th>\n",
              "      <th>Volume</th>\n",
              "    </tr>\n",
              "  </thead>\n",
              "  <tbody>\n",
              "    <tr>\n",
              "      <th>0</th>\n",
              "      <td>Ticker</td>\n",
              "      <td>CAP.PA</td>\n",
              "      <td>CAP.PA</td>\n",
              "      <td>CAP.PA</td>\n",
              "      <td>CAP.PA</td>\n",
              "      <td>CAP.PA</td>\n",
              "      <td>CAP.PA</td>\n",
              "    </tr>\n",
              "    <tr>\n",
              "      <th>1</th>\n",
              "      <td>Date</td>\n",
              "      <td>NaN</td>\n",
              "      <td>NaN</td>\n",
              "      <td>NaN</td>\n",
              "      <td>NaN</td>\n",
              "      <td>NaN</td>\n",
              "      <td>NaN</td>\n",
              "    </tr>\n",
              "    <tr>\n",
              "      <th>2</th>\n",
              "      <td>2000-01-03 00:00:00+00:00</td>\n",
              "      <td>155.20037841796875</td>\n",
              "      <td>255.89999389648438</td>\n",
              "      <td>274.79998779296875</td>\n",
              "      <td>255.89999389648438</td>\n",
              "      <td>258.20001220703125</td>\n",
              "      <td>492603</td>\n",
              "    </tr>\n",
              "    <tr>\n",
              "      <th>3</th>\n",
              "      <td>2000-01-04 00:00:00+00:00</td>\n",
              "      <td>143.85906982421875</td>\n",
              "      <td>237.1999969482422</td>\n",
              "      <td>257.0</td>\n",
              "      <td>236.60000610351562</td>\n",
              "      <td>257.0</td>\n",
              "      <td>357912</td>\n",
              "    </tr>\n",
              "    <tr>\n",
              "      <th>4</th>\n",
              "      <td>2000-01-05 00:00:00+00:00</td>\n",
              "      <td>129.66726684570312</td>\n",
              "      <td>213.8000030517578</td>\n",
              "      <td>230.0</td>\n",
              "      <td>212.0</td>\n",
              "      <td>229.10000610351562</td>\n",
              "      <td>784213</td>\n",
              "    </tr>\n",
              "  </tbody>\n",
              "</table>\n",
              "</div>\n",
              "    <div class=\"colab-df-buttons\">\n",
              "\n",
              "  <div class=\"colab-df-container\">\n",
              "    <button class=\"colab-df-convert\" onclick=\"convertToInteractive('df-55a75520-9266-4aba-b680-89e386717106')\"\n",
              "            title=\"Convert this dataframe to an interactive table.\"\n",
              "            style=\"display:none;\">\n",
              "\n",
              "  <svg xmlns=\"http://www.w3.org/2000/svg\" height=\"24px\" viewBox=\"0 -960 960 960\">\n",
              "    <path d=\"M120-120v-720h720v720H120Zm60-500h600v-160H180v160Zm220 220h160v-160H400v160Zm0 220h160v-160H400v160ZM180-400h160v-160H180v160Zm440 0h160v-160H620v160ZM180-180h160v-160H180v160Zm440 0h160v-160H620v160Z\"/>\n",
              "  </svg>\n",
              "    </button>\n",
              "\n",
              "  <style>\n",
              "    .colab-df-container {\n",
              "      display:flex;\n",
              "      gap: 12px;\n",
              "    }\n",
              "\n",
              "    .colab-df-convert {\n",
              "      background-color: #E8F0FE;\n",
              "      border: none;\n",
              "      border-radius: 50%;\n",
              "      cursor: pointer;\n",
              "      display: none;\n",
              "      fill: #1967D2;\n",
              "      height: 32px;\n",
              "      padding: 0 0 0 0;\n",
              "      width: 32px;\n",
              "    }\n",
              "\n",
              "    .colab-df-convert:hover {\n",
              "      background-color: #E2EBFA;\n",
              "      box-shadow: 0px 1px 2px rgba(60, 64, 67, 0.3), 0px 1px 3px 1px rgba(60, 64, 67, 0.15);\n",
              "      fill: #174EA6;\n",
              "    }\n",
              "\n",
              "    .colab-df-buttons div {\n",
              "      margin-bottom: 4px;\n",
              "    }\n",
              "\n",
              "    [theme=dark] .colab-df-convert {\n",
              "      background-color: #3B4455;\n",
              "      fill: #D2E3FC;\n",
              "    }\n",
              "\n",
              "    [theme=dark] .colab-df-convert:hover {\n",
              "      background-color: #434B5C;\n",
              "      box-shadow: 0px 1px 3px 1px rgba(0, 0, 0, 0.15);\n",
              "      filter: drop-shadow(0px 1px 2px rgba(0, 0, 0, 0.3));\n",
              "      fill: #FFFFFF;\n",
              "    }\n",
              "  </style>\n",
              "\n",
              "    <script>\n",
              "      const buttonEl =\n",
              "        document.querySelector('#df-55a75520-9266-4aba-b680-89e386717106 button.colab-df-convert');\n",
              "      buttonEl.style.display =\n",
              "        google.colab.kernel.accessAllowed ? 'block' : 'none';\n",
              "\n",
              "      async function convertToInteractive(key) {\n",
              "        const element = document.querySelector('#df-55a75520-9266-4aba-b680-89e386717106');\n",
              "        const dataTable =\n",
              "          await google.colab.kernel.invokeFunction('convertToInteractive',\n",
              "                                                    [key], {});\n",
              "        if (!dataTable) return;\n",
              "\n",
              "        const docLinkHtml = 'Like what you see? Visit the ' +\n",
              "          '<a target=\"_blank\" href=https://colab.research.google.com/notebooks/data_table.ipynb>data table notebook</a>'\n",
              "          + ' to learn more about interactive tables.';\n",
              "        element.innerHTML = '';\n",
              "        dataTable['output_type'] = 'display_data';\n",
              "        await google.colab.output.renderOutput(dataTable, element);\n",
              "        const docLink = document.createElement('div');\n",
              "        docLink.innerHTML = docLinkHtml;\n",
              "        element.appendChild(docLink);\n",
              "      }\n",
              "    </script>\n",
              "  </div>\n",
              "\n",
              "\n",
              "<div id=\"df-7e908eb7-d918-40b8-ab9e-ed2ac71bcbc0\">\n",
              "  <button class=\"colab-df-quickchart\" onclick=\"quickchart('df-7e908eb7-d918-40b8-ab9e-ed2ac71bcbc0')\"\n",
              "            title=\"Suggest charts\"\n",
              "            style=\"display:none;\">\n",
              "\n",
              "<svg xmlns=\"http://www.w3.org/2000/svg\" height=\"24px\"viewBox=\"0 0 24 24\"\n",
              "     width=\"24px\">\n",
              "    <g>\n",
              "        <path d=\"M19 3H5c-1.1 0-2 .9-2 2v14c0 1.1.9 2 2 2h14c1.1 0 2-.9 2-2V5c0-1.1-.9-2-2-2zM9 17H7v-7h2v7zm4 0h-2V7h2v10zm4 0h-2v-4h2v4z\"/>\n",
              "    </g>\n",
              "</svg>\n",
              "  </button>\n",
              "\n",
              "<style>\n",
              "  .colab-df-quickchart {\n",
              "      --bg-color: #E8F0FE;\n",
              "      --fill-color: #1967D2;\n",
              "      --hover-bg-color: #E2EBFA;\n",
              "      --hover-fill-color: #174EA6;\n",
              "      --disabled-fill-color: #AAA;\n",
              "      --disabled-bg-color: #DDD;\n",
              "  }\n",
              "\n",
              "  [theme=dark] .colab-df-quickchart {\n",
              "      --bg-color: #3B4455;\n",
              "      --fill-color: #D2E3FC;\n",
              "      --hover-bg-color: #434B5C;\n",
              "      --hover-fill-color: #FFFFFF;\n",
              "      --disabled-bg-color: #3B4455;\n",
              "      --disabled-fill-color: #666;\n",
              "  }\n",
              "\n",
              "  .colab-df-quickchart {\n",
              "    background-color: var(--bg-color);\n",
              "    border: none;\n",
              "    border-radius: 50%;\n",
              "    cursor: pointer;\n",
              "    display: none;\n",
              "    fill: var(--fill-color);\n",
              "    height: 32px;\n",
              "    padding: 0;\n",
              "    width: 32px;\n",
              "  }\n",
              "\n",
              "  .colab-df-quickchart:hover {\n",
              "    background-color: var(--hover-bg-color);\n",
              "    box-shadow: 0 1px 2px rgba(60, 64, 67, 0.3), 0 1px 3px 1px rgba(60, 64, 67, 0.15);\n",
              "    fill: var(--button-hover-fill-color);\n",
              "  }\n",
              "\n",
              "  .colab-df-quickchart-complete:disabled,\n",
              "  .colab-df-quickchart-complete:disabled:hover {\n",
              "    background-color: var(--disabled-bg-color);\n",
              "    fill: var(--disabled-fill-color);\n",
              "    box-shadow: none;\n",
              "  }\n",
              "\n",
              "  .colab-df-spinner {\n",
              "    border: 2px solid var(--fill-color);\n",
              "    border-color: transparent;\n",
              "    border-bottom-color: var(--fill-color);\n",
              "    animation:\n",
              "      spin 1s steps(1) infinite;\n",
              "  }\n",
              "\n",
              "  @keyframes spin {\n",
              "    0% {\n",
              "      border-color: transparent;\n",
              "      border-bottom-color: var(--fill-color);\n",
              "      border-left-color: var(--fill-color);\n",
              "    }\n",
              "    20% {\n",
              "      border-color: transparent;\n",
              "      border-left-color: var(--fill-color);\n",
              "      border-top-color: var(--fill-color);\n",
              "    }\n",
              "    30% {\n",
              "      border-color: transparent;\n",
              "      border-left-color: var(--fill-color);\n",
              "      border-top-color: var(--fill-color);\n",
              "      border-right-color: var(--fill-color);\n",
              "    }\n",
              "    40% {\n",
              "      border-color: transparent;\n",
              "      border-right-color: var(--fill-color);\n",
              "      border-top-color: var(--fill-color);\n",
              "    }\n",
              "    60% {\n",
              "      border-color: transparent;\n",
              "      border-right-color: var(--fill-color);\n",
              "    }\n",
              "    80% {\n",
              "      border-color: transparent;\n",
              "      border-right-color: var(--fill-color);\n",
              "      border-bottom-color: var(--fill-color);\n",
              "    }\n",
              "    90% {\n",
              "      border-color: transparent;\n",
              "      border-bottom-color: var(--fill-color);\n",
              "    }\n",
              "  }\n",
              "</style>\n",
              "\n",
              "  <script>\n",
              "    async function quickchart(key) {\n",
              "      const quickchartButtonEl =\n",
              "        document.querySelector('#' + key + ' button');\n",
              "      quickchartButtonEl.disabled = true;  // To prevent multiple clicks.\n",
              "      quickchartButtonEl.classList.add('colab-df-spinner');\n",
              "      try {\n",
              "        const charts = await google.colab.kernel.invokeFunction(\n",
              "            'suggestCharts', [key], {});\n",
              "      } catch (error) {\n",
              "        console.error('Error during call to suggestCharts:', error);\n",
              "      }\n",
              "      quickchartButtonEl.classList.remove('colab-df-spinner');\n",
              "      quickchartButtonEl.classList.add('colab-df-quickchart-complete');\n",
              "    }\n",
              "    (() => {\n",
              "      let quickchartButtonEl =\n",
              "        document.querySelector('#df-7e908eb7-d918-40b8-ab9e-ed2ac71bcbc0 button');\n",
              "      quickchartButtonEl.style.display =\n",
              "        google.colab.kernel.accessAllowed ? 'block' : 'none';\n",
              "    })();\n",
              "  </script>\n",
              "</div>\n",
              "\n",
              "    </div>\n",
              "  </div>\n"
            ],
            "application/vnd.google.colaboratory.intrinsic+json": {
              "type": "dataframe",
              "variable_name": "data",
              "summary": "{\n  \"name\": \"data\",\n  \"rows\": 6402,\n  \"fields\": [\n    {\n      \"column\": \"Price\",\n      \"properties\": {\n        \"dtype\": \"string\",\n        \"num_unique_values\": 6402,\n        \"samples\": [\n          \"2005-04-06 00:00:00+00:00\",\n          \"2017-04-11 00:00:00+00:00\",\n          \"2019-06-05 00:00:00+00:00\"\n        ],\n        \"semantic_type\": \"\",\n        \"description\": \"\"\n      }\n    },\n    {\n      \"column\": \"Adj Close\",\n      \"properties\": {\n        \"dtype\": \"string\",\n        \"num_unique_values\": 5635,\n        \"samples\": [\n          \"29.532941818237305\",\n          \"19.60852813720703\",\n          \"67.00988006591797\"\n        ],\n        \"semantic_type\": \"\",\n        \"description\": \"\"\n      }\n    },\n    {\n      \"column\": \"Close\",\n      \"properties\": {\n        \"dtype\": \"string\",\n        \"num_unique_values\": 4367,\n        \"samples\": [\n          \"38.81999969482422\",\n          \"15.319999694824219\",\n          \"21.780000686645508\"\n        ],\n        \"semantic_type\": \"\",\n        \"description\": \"\"\n      }\n    },\n    {\n      \"column\": \"High\",\n      \"properties\": {\n        \"dtype\": \"string\",\n        \"num_unique_values\": 4291,\n        \"samples\": [\n          \"114.1500015258789\",\n          \"37.279998779296875\",\n          \"175.9499969482422\"\n        ],\n        \"semantic_type\": \"\",\n        \"description\": \"\"\n      }\n    },\n    {\n      \"column\": \"Low\",\n      \"properties\": {\n        \"dtype\": \"string\",\n        \"num_unique_values\": 4333,\n        \"samples\": [\n          \"41.68000030517578\",\n          \"35.75\",\n          \"51.65999984741211\"\n        ],\n        \"semantic_type\": \"\",\n        \"description\": \"\"\n      }\n    },\n    {\n      \"column\": \"Open\",\n      \"properties\": {\n        \"dtype\": \"string\",\n        \"num_unique_values\": 4123,\n        \"samples\": [\n          \"35.29999923706055\",\n          \"30.25\",\n          \"80.1500015258789\"\n        ],\n        \"semantic_type\": \"\",\n        \"description\": \"\"\n      }\n    },\n    {\n      \"column\": \"Volume\",\n      \"properties\": {\n        \"dtype\": \"string\",\n        \"num_unique_values\": 6346,\n        \"samples\": [\n          \"1392381\",\n          \"866211\",\n          \"265535\"\n        ],\n        \"semantic_type\": \"\",\n        \"description\": \"\"\n      }\n    }\n  ]\n}"
            }
          },
          "metadata": {},
          "execution_count": 229
        }
      ]
    },
    {
      "cell_type": "code",
      "source": [
        "data = data.iloc[2:, [0,2]]\n",
        "data.reset_index(drop=True, inplace=True)\n",
        "data = data.rename(columns={'Price': 'Date'})\n",
        "data.head()"
      ],
      "metadata": {
        "colab": {
          "base_uri": "https://localhost:8080/",
          "height": 206
        },
        "id": "GdiFLNh7Kwsi",
        "outputId": "b1f7369f-16dc-43d5-8d9c-dfc5741fd94e"
      },
      "execution_count": null,
      "outputs": [
        {
          "output_type": "execute_result",
          "data": {
            "text/plain": [
              "                        Date               Close\n",
              "0  2000-01-03 00:00:00+00:00  255.89999389648438\n",
              "1  2000-01-04 00:00:00+00:00   237.1999969482422\n",
              "2  2000-01-05 00:00:00+00:00   213.8000030517578\n",
              "3  2000-01-06 00:00:00+00:00   215.1999969482422\n",
              "4  2000-01-07 00:00:00+00:00               226.0"
            ],
            "text/html": [
              "\n",
              "  <div id=\"df-a48fbbeb-a8ea-4aa0-9326-68744c79a56b\" class=\"colab-df-container\">\n",
              "    <div>\n",
              "<style scoped>\n",
              "    .dataframe tbody tr th:only-of-type {\n",
              "        vertical-align: middle;\n",
              "    }\n",
              "\n",
              "    .dataframe tbody tr th {\n",
              "        vertical-align: top;\n",
              "    }\n",
              "\n",
              "    .dataframe thead th {\n",
              "        text-align: right;\n",
              "    }\n",
              "</style>\n",
              "<table border=\"1\" class=\"dataframe\">\n",
              "  <thead>\n",
              "    <tr style=\"text-align: right;\">\n",
              "      <th></th>\n",
              "      <th>Date</th>\n",
              "      <th>Close</th>\n",
              "    </tr>\n",
              "  </thead>\n",
              "  <tbody>\n",
              "    <tr>\n",
              "      <th>0</th>\n",
              "      <td>2000-01-03 00:00:00+00:00</td>\n",
              "      <td>255.89999389648438</td>\n",
              "    </tr>\n",
              "    <tr>\n",
              "      <th>1</th>\n",
              "      <td>2000-01-04 00:00:00+00:00</td>\n",
              "      <td>237.1999969482422</td>\n",
              "    </tr>\n",
              "    <tr>\n",
              "      <th>2</th>\n",
              "      <td>2000-01-05 00:00:00+00:00</td>\n",
              "      <td>213.8000030517578</td>\n",
              "    </tr>\n",
              "    <tr>\n",
              "      <th>3</th>\n",
              "      <td>2000-01-06 00:00:00+00:00</td>\n",
              "      <td>215.1999969482422</td>\n",
              "    </tr>\n",
              "    <tr>\n",
              "      <th>4</th>\n",
              "      <td>2000-01-07 00:00:00+00:00</td>\n",
              "      <td>226.0</td>\n",
              "    </tr>\n",
              "  </tbody>\n",
              "</table>\n",
              "</div>\n",
              "    <div class=\"colab-df-buttons\">\n",
              "\n",
              "  <div class=\"colab-df-container\">\n",
              "    <button class=\"colab-df-convert\" onclick=\"convertToInteractive('df-a48fbbeb-a8ea-4aa0-9326-68744c79a56b')\"\n",
              "            title=\"Convert this dataframe to an interactive table.\"\n",
              "            style=\"display:none;\">\n",
              "\n",
              "  <svg xmlns=\"http://www.w3.org/2000/svg\" height=\"24px\" viewBox=\"0 -960 960 960\">\n",
              "    <path d=\"M120-120v-720h720v720H120Zm60-500h600v-160H180v160Zm220 220h160v-160H400v160Zm0 220h160v-160H400v160ZM180-400h160v-160H180v160Zm440 0h160v-160H620v160ZM180-180h160v-160H180v160Zm440 0h160v-160H620v160Z\"/>\n",
              "  </svg>\n",
              "    </button>\n",
              "\n",
              "  <style>\n",
              "    .colab-df-container {\n",
              "      display:flex;\n",
              "      gap: 12px;\n",
              "    }\n",
              "\n",
              "    .colab-df-convert {\n",
              "      background-color: #E8F0FE;\n",
              "      border: none;\n",
              "      border-radius: 50%;\n",
              "      cursor: pointer;\n",
              "      display: none;\n",
              "      fill: #1967D2;\n",
              "      height: 32px;\n",
              "      padding: 0 0 0 0;\n",
              "      width: 32px;\n",
              "    }\n",
              "\n",
              "    .colab-df-convert:hover {\n",
              "      background-color: #E2EBFA;\n",
              "      box-shadow: 0px 1px 2px rgba(60, 64, 67, 0.3), 0px 1px 3px 1px rgba(60, 64, 67, 0.15);\n",
              "      fill: #174EA6;\n",
              "    }\n",
              "\n",
              "    .colab-df-buttons div {\n",
              "      margin-bottom: 4px;\n",
              "    }\n",
              "\n",
              "    [theme=dark] .colab-df-convert {\n",
              "      background-color: #3B4455;\n",
              "      fill: #D2E3FC;\n",
              "    }\n",
              "\n",
              "    [theme=dark] .colab-df-convert:hover {\n",
              "      background-color: #434B5C;\n",
              "      box-shadow: 0px 1px 3px 1px rgba(0, 0, 0, 0.15);\n",
              "      filter: drop-shadow(0px 1px 2px rgba(0, 0, 0, 0.3));\n",
              "      fill: #FFFFFF;\n",
              "    }\n",
              "  </style>\n",
              "\n",
              "    <script>\n",
              "      const buttonEl =\n",
              "        document.querySelector('#df-a48fbbeb-a8ea-4aa0-9326-68744c79a56b button.colab-df-convert');\n",
              "      buttonEl.style.display =\n",
              "        google.colab.kernel.accessAllowed ? 'block' : 'none';\n",
              "\n",
              "      async function convertToInteractive(key) {\n",
              "        const element = document.querySelector('#df-a48fbbeb-a8ea-4aa0-9326-68744c79a56b');\n",
              "        const dataTable =\n",
              "          await google.colab.kernel.invokeFunction('convertToInteractive',\n",
              "                                                    [key], {});\n",
              "        if (!dataTable) return;\n",
              "\n",
              "        const docLinkHtml = 'Like what you see? Visit the ' +\n",
              "          '<a target=\"_blank\" href=https://colab.research.google.com/notebooks/data_table.ipynb>data table notebook</a>'\n",
              "          + ' to learn more about interactive tables.';\n",
              "        element.innerHTML = '';\n",
              "        dataTable['output_type'] = 'display_data';\n",
              "        await google.colab.output.renderOutput(dataTable, element);\n",
              "        const docLink = document.createElement('div');\n",
              "        docLink.innerHTML = docLinkHtml;\n",
              "        element.appendChild(docLink);\n",
              "      }\n",
              "    </script>\n",
              "  </div>\n",
              "\n",
              "\n",
              "<div id=\"df-7a01d853-891e-44a2-a9dd-cc3e9ad1a139\">\n",
              "  <button class=\"colab-df-quickchart\" onclick=\"quickchart('df-7a01d853-891e-44a2-a9dd-cc3e9ad1a139')\"\n",
              "            title=\"Suggest charts\"\n",
              "            style=\"display:none;\">\n",
              "\n",
              "<svg xmlns=\"http://www.w3.org/2000/svg\" height=\"24px\"viewBox=\"0 0 24 24\"\n",
              "     width=\"24px\">\n",
              "    <g>\n",
              "        <path d=\"M19 3H5c-1.1 0-2 .9-2 2v14c0 1.1.9 2 2 2h14c1.1 0 2-.9 2-2V5c0-1.1-.9-2-2-2zM9 17H7v-7h2v7zm4 0h-2V7h2v10zm4 0h-2v-4h2v4z\"/>\n",
              "    </g>\n",
              "</svg>\n",
              "  </button>\n",
              "\n",
              "<style>\n",
              "  .colab-df-quickchart {\n",
              "      --bg-color: #E8F0FE;\n",
              "      --fill-color: #1967D2;\n",
              "      --hover-bg-color: #E2EBFA;\n",
              "      --hover-fill-color: #174EA6;\n",
              "      --disabled-fill-color: #AAA;\n",
              "      --disabled-bg-color: #DDD;\n",
              "  }\n",
              "\n",
              "  [theme=dark] .colab-df-quickchart {\n",
              "      --bg-color: #3B4455;\n",
              "      --fill-color: #D2E3FC;\n",
              "      --hover-bg-color: #434B5C;\n",
              "      --hover-fill-color: #FFFFFF;\n",
              "      --disabled-bg-color: #3B4455;\n",
              "      --disabled-fill-color: #666;\n",
              "  }\n",
              "\n",
              "  .colab-df-quickchart {\n",
              "    background-color: var(--bg-color);\n",
              "    border: none;\n",
              "    border-radius: 50%;\n",
              "    cursor: pointer;\n",
              "    display: none;\n",
              "    fill: var(--fill-color);\n",
              "    height: 32px;\n",
              "    padding: 0;\n",
              "    width: 32px;\n",
              "  }\n",
              "\n",
              "  .colab-df-quickchart:hover {\n",
              "    background-color: var(--hover-bg-color);\n",
              "    box-shadow: 0 1px 2px rgba(60, 64, 67, 0.3), 0 1px 3px 1px rgba(60, 64, 67, 0.15);\n",
              "    fill: var(--button-hover-fill-color);\n",
              "  }\n",
              "\n",
              "  .colab-df-quickchart-complete:disabled,\n",
              "  .colab-df-quickchart-complete:disabled:hover {\n",
              "    background-color: var(--disabled-bg-color);\n",
              "    fill: var(--disabled-fill-color);\n",
              "    box-shadow: none;\n",
              "  }\n",
              "\n",
              "  .colab-df-spinner {\n",
              "    border: 2px solid var(--fill-color);\n",
              "    border-color: transparent;\n",
              "    border-bottom-color: var(--fill-color);\n",
              "    animation:\n",
              "      spin 1s steps(1) infinite;\n",
              "  }\n",
              "\n",
              "  @keyframes spin {\n",
              "    0% {\n",
              "      border-color: transparent;\n",
              "      border-bottom-color: var(--fill-color);\n",
              "      border-left-color: var(--fill-color);\n",
              "    }\n",
              "    20% {\n",
              "      border-color: transparent;\n",
              "      border-left-color: var(--fill-color);\n",
              "      border-top-color: var(--fill-color);\n",
              "    }\n",
              "    30% {\n",
              "      border-color: transparent;\n",
              "      border-left-color: var(--fill-color);\n",
              "      border-top-color: var(--fill-color);\n",
              "      border-right-color: var(--fill-color);\n",
              "    }\n",
              "    40% {\n",
              "      border-color: transparent;\n",
              "      border-right-color: var(--fill-color);\n",
              "      border-top-color: var(--fill-color);\n",
              "    }\n",
              "    60% {\n",
              "      border-color: transparent;\n",
              "      border-right-color: var(--fill-color);\n",
              "    }\n",
              "    80% {\n",
              "      border-color: transparent;\n",
              "      border-right-color: var(--fill-color);\n",
              "      border-bottom-color: var(--fill-color);\n",
              "    }\n",
              "    90% {\n",
              "      border-color: transparent;\n",
              "      border-bottom-color: var(--fill-color);\n",
              "    }\n",
              "  }\n",
              "</style>\n",
              "\n",
              "  <script>\n",
              "    async function quickchart(key) {\n",
              "      const quickchartButtonEl =\n",
              "        document.querySelector('#' + key + ' button');\n",
              "      quickchartButtonEl.disabled = true;  // To prevent multiple clicks.\n",
              "      quickchartButtonEl.classList.add('colab-df-spinner');\n",
              "      try {\n",
              "        const charts = await google.colab.kernel.invokeFunction(\n",
              "            'suggestCharts', [key], {});\n",
              "      } catch (error) {\n",
              "        console.error('Error during call to suggestCharts:', error);\n",
              "      }\n",
              "      quickchartButtonEl.classList.remove('colab-df-spinner');\n",
              "      quickchartButtonEl.classList.add('colab-df-quickchart-complete');\n",
              "    }\n",
              "    (() => {\n",
              "      let quickchartButtonEl =\n",
              "        document.querySelector('#df-7a01d853-891e-44a2-a9dd-cc3e9ad1a139 button');\n",
              "      quickchartButtonEl.style.display =\n",
              "        google.colab.kernel.accessAllowed ? 'block' : 'none';\n",
              "    })();\n",
              "  </script>\n",
              "</div>\n",
              "\n",
              "    </div>\n",
              "  </div>\n"
            ],
            "application/vnd.google.colaboratory.intrinsic+json": {
              "type": "dataframe",
              "variable_name": "data",
              "summary": "{\n  \"name\": \"data\",\n  \"rows\": 6400,\n  \"fields\": [\n    {\n      \"column\": \"Date\",\n      \"properties\": {\n        \"dtype\": \"object\",\n        \"num_unique_values\": 6400,\n        \"samples\": [\n          \"2007-09-04 00:00:00+00:00\",\n          \"2010-09-27 00:00:00+00:00\",\n          \"2016-03-02 00:00:00+00:00\"\n        ],\n        \"semantic_type\": \"\",\n        \"description\": \"\"\n      }\n    },\n    {\n      \"column\": \"Close\",\n      \"properties\": {\n        \"dtype\": \"string\",\n        \"num_unique_values\": 4366,\n        \"samples\": [\n          \"39.779998779296875\",\n          \"14.149999618530273\",\n          \"23.75\"\n        ],\n        \"semantic_type\": \"\",\n        \"description\": \"\"\n      }\n    }\n  ]\n}"
            }
          },
          "metadata": {},
          "execution_count": 230
        }
      ]
    },
    {
      "cell_type": "code",
      "source": [
        "data.isnull().sum()"
      ],
      "metadata": {
        "colab": {
          "base_uri": "https://localhost:8080/",
          "height": 147
        },
        "id": "XK-qgC5ELu4M",
        "outputId": "04fe6852-5d75-4c95-89ad-dd3ecff913d0"
      },
      "execution_count": null,
      "outputs": [
        {
          "output_type": "execute_result",
          "data": {
            "text/plain": [
              "Date     0\n",
              "Close    0\n",
              "dtype: int64"
            ],
            "text/html": [
              "<div>\n",
              "<style scoped>\n",
              "    .dataframe tbody tr th:only-of-type {\n",
              "        vertical-align: middle;\n",
              "    }\n",
              "\n",
              "    .dataframe tbody tr th {\n",
              "        vertical-align: top;\n",
              "    }\n",
              "\n",
              "    .dataframe thead th {\n",
              "        text-align: right;\n",
              "    }\n",
              "</style>\n",
              "<table border=\"1\" class=\"dataframe\">\n",
              "  <thead>\n",
              "    <tr style=\"text-align: right;\">\n",
              "      <th></th>\n",
              "      <th>0</th>\n",
              "    </tr>\n",
              "  </thead>\n",
              "  <tbody>\n",
              "    <tr>\n",
              "      <th>Date</th>\n",
              "      <td>0</td>\n",
              "    </tr>\n",
              "    <tr>\n",
              "      <th>Close</th>\n",
              "      <td>0</td>\n",
              "    </tr>\n",
              "  </tbody>\n",
              "</table>\n",
              "</div><br><label><b>dtype:</b> int64</label>"
            ]
          },
          "metadata": {},
          "execution_count": 231
        }
      ]
    },
    {
      "cell_type": "code",
      "source": [
        "data[\"Date\"] = pd.to_datetime(data[\"Date\"]).dt.date\n",
        "data[\"Date\"] = pd.to_datetime(data[\"Date\"])\n",
        "data[\"Close\"] = data[\"Close\"].astype(float)\n",
        "data.head()"
      ],
      "metadata": {
        "colab": {
          "base_uri": "https://localhost:8080/",
          "height": 206
        },
        "id": "zvMB0IsHL2m2",
        "outputId": "73120525-a5f0-498b-f059-13bb21b74c51"
      },
      "execution_count": null,
      "outputs": [
        {
          "output_type": "execute_result",
          "data": {
            "text/plain": [
              "        Date       Close\n",
              "0 2000-01-03  255.899994\n",
              "1 2000-01-04  237.199997\n",
              "2 2000-01-05  213.800003\n",
              "3 2000-01-06  215.199997\n",
              "4 2000-01-07  226.000000"
            ],
            "text/html": [
              "\n",
              "  <div id=\"df-c54d15ab-bf69-441f-a7dc-ff98316dbe10\" class=\"colab-df-container\">\n",
              "    <div>\n",
              "<style scoped>\n",
              "    .dataframe tbody tr th:only-of-type {\n",
              "        vertical-align: middle;\n",
              "    }\n",
              "\n",
              "    .dataframe tbody tr th {\n",
              "        vertical-align: top;\n",
              "    }\n",
              "\n",
              "    .dataframe thead th {\n",
              "        text-align: right;\n",
              "    }\n",
              "</style>\n",
              "<table border=\"1\" class=\"dataframe\">\n",
              "  <thead>\n",
              "    <tr style=\"text-align: right;\">\n",
              "      <th></th>\n",
              "      <th>Date</th>\n",
              "      <th>Close</th>\n",
              "    </tr>\n",
              "  </thead>\n",
              "  <tbody>\n",
              "    <tr>\n",
              "      <th>0</th>\n",
              "      <td>2000-01-03</td>\n",
              "      <td>255.899994</td>\n",
              "    </tr>\n",
              "    <tr>\n",
              "      <th>1</th>\n",
              "      <td>2000-01-04</td>\n",
              "      <td>237.199997</td>\n",
              "    </tr>\n",
              "    <tr>\n",
              "      <th>2</th>\n",
              "      <td>2000-01-05</td>\n",
              "      <td>213.800003</td>\n",
              "    </tr>\n",
              "    <tr>\n",
              "      <th>3</th>\n",
              "      <td>2000-01-06</td>\n",
              "      <td>215.199997</td>\n",
              "    </tr>\n",
              "    <tr>\n",
              "      <th>4</th>\n",
              "      <td>2000-01-07</td>\n",
              "      <td>226.000000</td>\n",
              "    </tr>\n",
              "  </tbody>\n",
              "</table>\n",
              "</div>\n",
              "    <div class=\"colab-df-buttons\">\n",
              "\n",
              "  <div class=\"colab-df-container\">\n",
              "    <button class=\"colab-df-convert\" onclick=\"convertToInteractive('df-c54d15ab-bf69-441f-a7dc-ff98316dbe10')\"\n",
              "            title=\"Convert this dataframe to an interactive table.\"\n",
              "            style=\"display:none;\">\n",
              "\n",
              "  <svg xmlns=\"http://www.w3.org/2000/svg\" height=\"24px\" viewBox=\"0 -960 960 960\">\n",
              "    <path d=\"M120-120v-720h720v720H120Zm60-500h600v-160H180v160Zm220 220h160v-160H400v160Zm0 220h160v-160H400v160ZM180-400h160v-160H180v160Zm440 0h160v-160H620v160ZM180-180h160v-160H180v160Zm440 0h160v-160H620v160Z\"/>\n",
              "  </svg>\n",
              "    </button>\n",
              "\n",
              "  <style>\n",
              "    .colab-df-container {\n",
              "      display:flex;\n",
              "      gap: 12px;\n",
              "    }\n",
              "\n",
              "    .colab-df-convert {\n",
              "      background-color: #E8F0FE;\n",
              "      border: none;\n",
              "      border-radius: 50%;\n",
              "      cursor: pointer;\n",
              "      display: none;\n",
              "      fill: #1967D2;\n",
              "      height: 32px;\n",
              "      padding: 0 0 0 0;\n",
              "      width: 32px;\n",
              "    }\n",
              "\n",
              "    .colab-df-convert:hover {\n",
              "      background-color: #E2EBFA;\n",
              "      box-shadow: 0px 1px 2px rgba(60, 64, 67, 0.3), 0px 1px 3px 1px rgba(60, 64, 67, 0.15);\n",
              "      fill: #174EA6;\n",
              "    }\n",
              "\n",
              "    .colab-df-buttons div {\n",
              "      margin-bottom: 4px;\n",
              "    }\n",
              "\n",
              "    [theme=dark] .colab-df-convert {\n",
              "      background-color: #3B4455;\n",
              "      fill: #D2E3FC;\n",
              "    }\n",
              "\n",
              "    [theme=dark] .colab-df-convert:hover {\n",
              "      background-color: #434B5C;\n",
              "      box-shadow: 0px 1px 3px 1px rgba(0, 0, 0, 0.15);\n",
              "      filter: drop-shadow(0px 1px 2px rgba(0, 0, 0, 0.3));\n",
              "      fill: #FFFFFF;\n",
              "    }\n",
              "  </style>\n",
              "\n",
              "    <script>\n",
              "      const buttonEl =\n",
              "        document.querySelector('#df-c54d15ab-bf69-441f-a7dc-ff98316dbe10 button.colab-df-convert');\n",
              "      buttonEl.style.display =\n",
              "        google.colab.kernel.accessAllowed ? 'block' : 'none';\n",
              "\n",
              "      async function convertToInteractive(key) {\n",
              "        const element = document.querySelector('#df-c54d15ab-bf69-441f-a7dc-ff98316dbe10');\n",
              "        const dataTable =\n",
              "          await google.colab.kernel.invokeFunction('convertToInteractive',\n",
              "                                                    [key], {});\n",
              "        if (!dataTable) return;\n",
              "\n",
              "        const docLinkHtml = 'Like what you see? Visit the ' +\n",
              "          '<a target=\"_blank\" href=https://colab.research.google.com/notebooks/data_table.ipynb>data table notebook</a>'\n",
              "          + ' to learn more about interactive tables.';\n",
              "        element.innerHTML = '';\n",
              "        dataTable['output_type'] = 'display_data';\n",
              "        await google.colab.output.renderOutput(dataTable, element);\n",
              "        const docLink = document.createElement('div');\n",
              "        docLink.innerHTML = docLinkHtml;\n",
              "        element.appendChild(docLink);\n",
              "      }\n",
              "    </script>\n",
              "  </div>\n",
              "\n",
              "\n",
              "<div id=\"df-b40073b1-5002-4bbd-a4fc-b12828b1e4f2\">\n",
              "  <button class=\"colab-df-quickchart\" onclick=\"quickchart('df-b40073b1-5002-4bbd-a4fc-b12828b1e4f2')\"\n",
              "            title=\"Suggest charts\"\n",
              "            style=\"display:none;\">\n",
              "\n",
              "<svg xmlns=\"http://www.w3.org/2000/svg\" height=\"24px\"viewBox=\"0 0 24 24\"\n",
              "     width=\"24px\">\n",
              "    <g>\n",
              "        <path d=\"M19 3H5c-1.1 0-2 .9-2 2v14c0 1.1.9 2 2 2h14c1.1 0 2-.9 2-2V5c0-1.1-.9-2-2-2zM9 17H7v-7h2v7zm4 0h-2V7h2v10zm4 0h-2v-4h2v4z\"/>\n",
              "    </g>\n",
              "</svg>\n",
              "  </button>\n",
              "\n",
              "<style>\n",
              "  .colab-df-quickchart {\n",
              "      --bg-color: #E8F0FE;\n",
              "      --fill-color: #1967D2;\n",
              "      --hover-bg-color: #E2EBFA;\n",
              "      --hover-fill-color: #174EA6;\n",
              "      --disabled-fill-color: #AAA;\n",
              "      --disabled-bg-color: #DDD;\n",
              "  }\n",
              "\n",
              "  [theme=dark] .colab-df-quickchart {\n",
              "      --bg-color: #3B4455;\n",
              "      --fill-color: #D2E3FC;\n",
              "      --hover-bg-color: #434B5C;\n",
              "      --hover-fill-color: #FFFFFF;\n",
              "      --disabled-bg-color: #3B4455;\n",
              "      --disabled-fill-color: #666;\n",
              "  }\n",
              "\n",
              "  .colab-df-quickchart {\n",
              "    background-color: var(--bg-color);\n",
              "    border: none;\n",
              "    border-radius: 50%;\n",
              "    cursor: pointer;\n",
              "    display: none;\n",
              "    fill: var(--fill-color);\n",
              "    height: 32px;\n",
              "    padding: 0;\n",
              "    width: 32px;\n",
              "  }\n",
              "\n",
              "  .colab-df-quickchart:hover {\n",
              "    background-color: var(--hover-bg-color);\n",
              "    box-shadow: 0 1px 2px rgba(60, 64, 67, 0.3), 0 1px 3px 1px rgba(60, 64, 67, 0.15);\n",
              "    fill: var(--button-hover-fill-color);\n",
              "  }\n",
              "\n",
              "  .colab-df-quickchart-complete:disabled,\n",
              "  .colab-df-quickchart-complete:disabled:hover {\n",
              "    background-color: var(--disabled-bg-color);\n",
              "    fill: var(--disabled-fill-color);\n",
              "    box-shadow: none;\n",
              "  }\n",
              "\n",
              "  .colab-df-spinner {\n",
              "    border: 2px solid var(--fill-color);\n",
              "    border-color: transparent;\n",
              "    border-bottom-color: var(--fill-color);\n",
              "    animation:\n",
              "      spin 1s steps(1) infinite;\n",
              "  }\n",
              "\n",
              "  @keyframes spin {\n",
              "    0% {\n",
              "      border-color: transparent;\n",
              "      border-bottom-color: var(--fill-color);\n",
              "      border-left-color: var(--fill-color);\n",
              "    }\n",
              "    20% {\n",
              "      border-color: transparent;\n",
              "      border-left-color: var(--fill-color);\n",
              "      border-top-color: var(--fill-color);\n",
              "    }\n",
              "    30% {\n",
              "      border-color: transparent;\n",
              "      border-left-color: var(--fill-color);\n",
              "      border-top-color: var(--fill-color);\n",
              "      border-right-color: var(--fill-color);\n",
              "    }\n",
              "    40% {\n",
              "      border-color: transparent;\n",
              "      border-right-color: var(--fill-color);\n",
              "      border-top-color: var(--fill-color);\n",
              "    }\n",
              "    60% {\n",
              "      border-color: transparent;\n",
              "      border-right-color: var(--fill-color);\n",
              "    }\n",
              "    80% {\n",
              "      border-color: transparent;\n",
              "      border-right-color: var(--fill-color);\n",
              "      border-bottom-color: var(--fill-color);\n",
              "    }\n",
              "    90% {\n",
              "      border-color: transparent;\n",
              "      border-bottom-color: var(--fill-color);\n",
              "    }\n",
              "  }\n",
              "</style>\n",
              "\n",
              "  <script>\n",
              "    async function quickchart(key) {\n",
              "      const quickchartButtonEl =\n",
              "        document.querySelector('#' + key + ' button');\n",
              "      quickchartButtonEl.disabled = true;  // To prevent multiple clicks.\n",
              "      quickchartButtonEl.classList.add('colab-df-spinner');\n",
              "      try {\n",
              "        const charts = await google.colab.kernel.invokeFunction(\n",
              "            'suggestCharts', [key], {});\n",
              "      } catch (error) {\n",
              "        console.error('Error during call to suggestCharts:', error);\n",
              "      }\n",
              "      quickchartButtonEl.classList.remove('colab-df-spinner');\n",
              "      quickchartButtonEl.classList.add('colab-df-quickchart-complete');\n",
              "    }\n",
              "    (() => {\n",
              "      let quickchartButtonEl =\n",
              "        document.querySelector('#df-b40073b1-5002-4bbd-a4fc-b12828b1e4f2 button');\n",
              "      quickchartButtonEl.style.display =\n",
              "        google.colab.kernel.accessAllowed ? 'block' : 'none';\n",
              "    })();\n",
              "  </script>\n",
              "</div>\n",
              "\n",
              "    </div>\n",
              "  </div>\n"
            ],
            "application/vnd.google.colaboratory.intrinsic+json": {
              "type": "dataframe",
              "variable_name": "data",
              "summary": "{\n  \"name\": \"data\",\n  \"rows\": 6400,\n  \"fields\": [\n    {\n      \"column\": \"Date\",\n      \"properties\": {\n        \"dtype\": \"date\",\n        \"min\": \"2000-01-03 00:00:00\",\n        \"max\": \"2024-11-21 00:00:00\",\n        \"num_unique_values\": 6400,\n        \"samples\": [\n          \"2007-09-04 00:00:00\",\n          \"2010-09-27 00:00:00\",\n          \"2016-03-02 00:00:00\"\n        ],\n        \"semantic_type\": \"\",\n        \"description\": \"\"\n      }\n    },\n    {\n      \"column\": \"Close\",\n      \"properties\": {\n        \"dtype\": \"number\",\n        \"std\": 60.03498965082461,\n        \"min\": 12.960000038146973,\n        \"max\": 350.0,\n        \"num_unique_values\": 4366,\n        \"samples\": [\n          39.779998779296875,\n          14.149999618530273,\n          23.75\n        ],\n        \"semantic_type\": \"\",\n        \"description\": \"\"\n      }\n    }\n  ]\n}"
            }
          },
          "metadata": {},
          "execution_count": 232
        }
      ]
    },
    {
      "cell_type": "markdown",
      "source": [
        "#Step 2: Plot Prices"
      ],
      "metadata": {
        "id": "YXsGRpCKaqNZ"
      }
    },
    {
      "cell_type": "code",
      "source": [
        "plt.figure(figsize=(12, 6))\n",
        "plt.plot(data['Date'], data['Close'], label='Closing Price', color='blue')\n",
        "plt.title('Adjusted Closing Prices of CAP.PA')\n",
        "plt.xlabel('Date')\n",
        "plt.ylabel('Price (EUR)')\n",
        "plt.legend()\n",
        "plt.grid()\n",
        "plt.show()\n",
        "\n"
      ],
      "metadata": {
        "colab": {
          "base_uri": "https://localhost:8080/",
          "height": 564
        },
        "id": "kyMiWT7yVdCT",
        "outputId": "5651b3fd-2ea3-4dbd-b30d-eb5d0a4c948c"
      },
      "execution_count": null,
      "outputs": [
        {
          "output_type": "display_data",
          "data": {
            "text/plain": [
              "<Figure size 1200x600 with 1 Axes>"
            ],
            "image/png": "[encoded data removed]"
          },
          "metadata": {}
        }
      ]
    },
    {
      "cell_type": "markdown",
      "source": [
        "#Step 3: Calculate and Plot Log-Returns"
      ],
      "metadata": {
        "id": "J-66oTyTaw2K"
      }
    },
    {
      "cell_type": "code",
      "source": [
        "data['Log Returns'] = np.log(data['Close'] / data['Close'].shift(1))\n",
        "\n",
        "plt.figure(figsize=(12, 6))\n",
        "plt.plot(data['Date'][1:], data['Log Returns'][1:], label='Log Returns', color='orange')\n",
        "plt.title('Log Returns of CAP.PA')\n",
        "plt.xlabel('Date')\n",
        "plt.ylabel('Log Returns')\n",
        "plt.legend()\n",
        "plt.grid()\n",
        "plt.show()"
      ],
      "metadata": {
        "colab": {
          "base_uri": "https://localhost:8080/",
          "height": 564
        },
        "id": "bK3W9_kyVnkB",
        "outputId": "8f119b8f-bb18-4fb9-8f90-7a1d9c384fb1"
      },
      "execution_count": null,
      "outputs": [
        {
          "output_type": "display_data",
          "data": {
            "text/plain": [
              "<Figure size 1200x600 with 1 Axes>"
            ],
            "image/png": "[encoded data removed]"
          },
          "metadata": {}
        }
      ]
    },
    {
      "cell_type": "markdown",
      "source": [
        "#Step 4: Test for Normality (QQ Plot, Histogram, Statistical Tests)\n"
      ],
      "metadata": {
        "id": "9E9q8LRaVtoO"
      }
    },
    {
      "cell_type": "code",
      "source": [
        "import seaborn as sns\n",
        "from scipy.stats import jarque_bera, kstest\n",
        "\n",
        "# Histogram of log-returns\n",
        "plt.figure(figsize=(12, 6))\n",
        "sns.histplot(data['Log Returns'].dropna(), kde=True, bins=50, color='blue')\n",
        "plt.title('Histogram of Log Returns')\n",
        "plt.xlabel('Log Returns')\n",
        "plt.show()\n",
        "\n",
        "# QQ Plot\n",
        "from scipy.stats import probplot\n",
        "\n",
        "plt.figure(figsize=(8, 8))\n",
        "probplot(data['Log Returns'].dropna(), dist=\"norm\", plot=plt)\n",
        "plt.title('QQ Plot of Log Returns')\n",
        "plt.show()\n",
        "\n",
        "# Statistical Tests\n",
        "# Jarque-Bera Test\n",
        "jb_stat, jb_p = jarque_bera(data['Log Returns'].dropna())\n",
        "\n",
        "# Kolmogorov-Smirnov Test\n",
        "ks_stat, ks_p = kstest(data['Log Returns'].dropna(), 'norm', args=(data['Log Returns'].mean(), data['Log Returns'].std()))\n",
        "\n",
        "# Display results\n",
        "normality_results = {\n",
        "    \"Jarque-Bera Statistic\": jb_stat,\n",
        "    \"Jarque-Bera p-value\": jb_p,\n",
        "    \"Kolmogorov-Smirnov Statistic\": ks_stat,\n",
        "    \"Kolmogorov-Smirnov p-value\": ks_p,\n",
        "}\n",
        "normality_results\n",
        "\n"
      ],
      "metadata": {
        "colab": {
          "base_uri": "https://localhost:8080/",
          "height": 1089
        },
        "id": "yVz-qrjkVuKk",
        "outputId": "cfedcfa8-097b-4596-8ca6-541d7ed6fda8"
      },
      "execution_count": null,
      "outputs": [
        {
          "output_type": "display_data",
          "data": {
            "text/plain": [
              "<Figure size 1200x600 with 1 Axes>"
            ],
            "image/png": "[encoded data removed]"
          },
          "metadata": {}
        },
        {
          "output_type": "display_data",
          "data": {
            "text/plain": [
              "<Figure size 800x800 with 1 Axes>"
            ],
            "image/png": "[encoded data removed]"
          },
          "metadata": {}
        },
        {
          "output_type": "execute_result",
          "data": {
            "text/plain": [
              "{'Jarque-Bera Statistic': 13831.489229080396,\n",
              " 'Jarque-Bera p-value': 0.0,\n",
              " 'Kolmogorov-Smirnov Statistic': 0.07140262490720281,\n",
              " 'Kolmogorov-Smirnov p-value': 8.166934761695676e-29}"
            ]
          },
          "metadata": {},
          "execution_count": 245
        }
      ]
    },
    {
      "cell_type": "markdown",
      "source": [
        "#Step 5: Estimate Historical Volatility\n"
      ],
      "metadata": {
        "id": "mntpj1t6V5fK"
      }
    },
    {
      "cell_type": "code",
      "source": [
        "# Annualized volatility (252 trading days in a year)\n",
        "historical_volatility = data['Log Returns'].std() * np.sqrt(252)\n",
        "historical_volatility_percentage = historical_volatility * 100\n",
        "\n",
        "historical_volatility_percentage\n",
        "\n"
      ],
      "metadata": {
        "colab": {
          "base_uri": "https://localhost:8080/"
        },
        "id": "LMbqksnTV7KC",
        "outputId": "52bfab22-8f19-405f-d1ec-c8056ff2dc98"
      },
      "execution_count": null,
      "outputs": [
        {
          "output_type": "execute_result",
          "data": {
            "text/plain": [
              "38.80163411870205"
            ]
          },
          "metadata": {},
          "execution_count": 246
        }
      ]
    },
    {
      "cell_type": "markdown",
      "source": [
        "#Step 6: Identify Risk-Free Rate\n"
      ],
      "metadata": {
        "id": "-VmTRjLWWBcY"
      }
    },
    {
      "cell_type": "code",
      "source": [
        "# Assigning the risk-free rate based on the provided information (3-month Treasury rate for EUR)\n",
        "risk_free_rate = 0.034  # 3.4% annualized rate\n",
        "\n",
        "risk_free_rate\n"
      ],
      "metadata": {
        "colab": {
          "base_uri": "https://localhost:8080/"
        },
        "id": "be0bHXwMV-lW",
        "outputId": "dd8c23d2-1b1e-450f-f614-10f2554c4870"
      },
      "execution_count": null,
      "outputs": [
        {
          "output_type": "execute_result",
          "data": {
            "text/plain": [
              "0.034"
            ]
          },
          "metadata": {},
          "execution_count": 247
        }
      ]
    },
    {
      "cell_type": "markdown",
      "source": [
        "#Step 7: Test the assumption if the log-returns are independent/uncorrelated."
      ],
      "metadata": {
        "id": "jFkaZ15SWIPv"
      }
    },
    {
      "cell_type": "code",
      "source": [
        "from statsmodels.graphics.tsaplots import plot_acf, plot_pacf\n",
        "\n",
        "# Plot the autocorrelation function (ACF)\n",
        "plt.figure(figsize=(12, 6))\n",
        "plot_acf(data['Log Returns'].dropna(), lags=20, alpha=0.05)\n",
        "plt.title('Autocorrelation Function (ACF) of Log Returns')\n",
        "plt.show()\n",
        "\n",
        "# Plot the partial autocorrelation function (PACF)\n",
        "plt.figure(figsize=(12, 6))\n",
        "plot_pacf(data['Log Returns'].dropna(), lags=20, alpha=0.05, method='ywm')\n",
        "plt.title('Partial Autocorrelation Function (PACF) of Log Returns')\n",
        "plt.show()\n"
      ],
      "metadata": {
        "colab": {
          "base_uri": "https://localhost:8080/",
          "height": 922
        },
        "id": "KMMHtcGUhHqq",
        "outputId": "aaa63bdf-9c19-456f-a884-ebaff9b58652"
      },
      "execution_count": null,
      "outputs": [
        {
          "output_type": "display_data",
          "data": {
            "text/plain": [
              "<Figure size 1200x600 with 0 Axes>"
            ]
          },
          "metadata": {}
        },
        {
          "output_type": "display_data",
          "data": {
            "text/plain": [
              "<Figure size 640x480 with 1 Axes>"
            ],
            "image/png": "[encoded data removed]"
          },
          "metadata": {}
        },
        {
          "output_type": "display_data",
          "data": {
            "text/plain": [
              "<Figure size 1200x600 with 0 Axes>"
            ]
          },
          "metadata": {}
        },
        {
          "output_type": "display_data",
          "data": {
            "text/plain": [
              "<Figure size 640x480 with 1 Axes>"
            ],
            "image/png": "[encoded data removed]"
          },
          "metadata": {}
        }
      ]
    },
    {
      "cell_type": "markdown",
      "source": [
        "#Step 8. Calculate the option price for an In-The-Money (ITM) European calloption and In-The-Money European put option for the maturity November 15, 2024. The pricing date can be taken on which you calculate the option price.\n",
        "#9.Use CRR and Black-Scholes Models to compute the option prices. Compare the prices from different methods.\n"
      ],
      "metadata": {
        "id": "l9_qvmmsVJCs"
      }
    },
    {
      "cell_type": "code",
      "source": [
        "import numpy as np\n",
        "from scipy.stats import norm\n",
        "\n",
        "# Black-Scholes Model for European options\n",
        "def black_scholes(S, K, T, r, sigma, option_type=\"call\"):\n",
        "    \"\"\"\n",
        "    Black-Scholes formula for option pricing.\n",
        "\n",
        "    Parameters:\n",
        "    - S: Current stock price\n",
        "    - K: Strike price\n",
        "    - T: Time to maturity (in years)\n",
        "    - r: Risk-free rate\n",
        "    - sigma: Volatility (annualized)\n",
        "    - option_type: \"call\" or \"put\"\n",
        "\n",
        "    Returns:\n",
        "    - Option price\n",
        "    \"\"\"\n",
        "    d1 = (np.log(S / K) + (r + 0.5 * sigma**2) * T) / (sigma * np.sqrt(T))\n",
        "    d2 = d1 - sigma * np.sqrt(T)\n",
        "\n",
        "    if option_type == \"call\":\n",
        "        return S * norm.cdf(d1) - K * np.exp(-r * T) * norm.cdf(d2)\n",
        "    elif option_type == \"put\":\n",
        "        return K * np.exp(-r * T) * norm.cdf(-d2) - S * norm.cdf(-d1)\n",
        "    else:\n",
        "        raise ValueError(\"Invalid option type. Use 'call' or 'put'.\")\n",
        "\n",
        "def crr_binomial_tree(S, K, T, r, sigma, steps, option_type=\"call\"):\n",
        "    \"\"\"\n",
        "    CRR Binomial Tree Model for option pricing.\n",
        "\n",
        "    Parameters:\n",
        "    - S: Current stock price\n",
        "    - K: Strike price\n",
        "    - T: Time to maturity (in years)\n",
        "    - r: Risk-free rate\n",
        "    - sigma: Volatility (annualized)\n",
        "    - steps: Number of steps in the binomial tree\n",
        "    - option_type: \"call\" or \"put\"\n",
        "\n",
        "    Returns:\n",
        "    - Option price\n",
        "    \"\"\"\n",
        "    dt = T / steps  # Time per step\n",
        "    u = np.exp(sigma * np.sqrt(dt))  # Up factor\n",
        "    d = 1 / u  # Down factor\n",
        "    p = (np.exp(r * dt) - d) / (u - d)  # Risk-neutral probability\n",
        "\n",
        "    # Stock price tree\n",
        "    stock_tree = np.zeros((steps + 1, steps + 1))\n",
        "    for i in range(steps + 1):\n",
        "        for j in range(i + 1):\n",
        "            stock_tree[j, i] = S * (u ** (i - j)) * (d ** j)\n",
        "\n",
        "\n",
        "    option_tree = np.zeros((steps + 1, steps + 1))\n",
        "    if option_type == \"call\":\n",
        "        option_tree[:, steps] = np.maximum(0, stock_tree[:, steps] - K)\n",
        "    elif option_type == \"put\":\n",
        "        option_tree[:, steps] = np.maximum(0, K - stock_tree[:, steps])\n",
        "\n",
        "\n",
        "    for i in range(steps - 1, -1, -1):\n",
        "        for j in range(i + 1):\n",
        "            option_tree[j, i] = np.exp(-r * dt) * (\n",
        "                p * option_tree[j, i + 1] + (1 - p) * option_tree[j + 1, i + 1]\n",
        "            )\n",
        "\n",
        "    return option_tree[0, 0]\n",
        "\n",
        "\n",
        "current_price = data['Close'].iloc[-1]\n",
        "strike_price_call = current_price * 0.9\n",
        "strike_price_put = current_price * 1.1\n",
        "maturity_date = pd.to_datetime(\"2024-11-22\").tz_localize(None)  # Maturity date\n",
        "pricing_date = pd.to_datetime(data['Date'].iloc[-1]).tz_localize(None)  # Pricing date\n",
        "time_to_maturity = (maturity_date - pricing_date).days / 365.0  # Time to maturity in years\n",
        "risk_free_rate = 0.034  # 3.4%\n",
        "historical_volatility = 0.388  # Annualized historical volatility (38.8%)\n",
        "steps = 100  # Number of steps for CRR model\n",
        "\n",
        "# Correct maturity if T < 0\n",
        "if time_to_maturity < 0:\n",
        "    maturity_date = pricing_date + pd.DateOffset(years=1)\n",
        "    time_to_maturity = (maturity_date - pricing_date).days / 365.0\n",
        "\n",
        "# Black-Scholes Prices\n",
        "call_price_bs = black_scholes(current_price, strike_price_call, time_to_maturity, risk_free_rate, historical_volatility, \"call\")\n",
        "put_price_bs = black_scholes(current_price, strike_price_put, time_to_maturity, risk_free_rate, historical_volatility, \"put\")\n",
        "\n",
        "# CRR Binomial Prices\n",
        "call_price_crr = crr_binomial_tree(current_price, strike_price_call, time_to_maturity, risk_free_rate, historical_volatility, steps, \"call\")\n",
        "put_price_crr = crr_binomial_tree(current_price, strike_price_put, time_to_maturity, risk_free_rate, historical_volatility, steps, \"put\")\n",
        "\n",
        "# Display the results\n",
        "{\n",
        "    \"Black-Scholes Call Price\": call_price_bs,\n",
        "    \"Black-Scholes Put Price\": put_price_bs,\n",
        "    \"CRR Call Price\": call_price_crr,\n",
        "    \"CRR Put Price\": put_price_crr\n",
        "}\n"
      ],
      "metadata": {
        "colab": {
          "base_uri": "https://localhost:8080/"
        },
        "id": "c0zNihL-YFEr",
        "outputId": "4f27a8d2-1ead-4f60-f25c-ce703e1b911b"
      },
      "execution_count": null,
      "outputs": [
        {
          "output_type": "execute_result",
          "data": {
            "text/plain": [
              "{'Black-Scholes Call Price': 15.3678727201563,\n",
              " 'Black-Scholes Put Price': 15.339268309048606,\n",
              " 'CRR Call Price': 15.36787269010809,\n",
              " 'CRR Put Price': 15.33926799454924}"
            ]
          },
          "metadata": {},
          "execution_count": 277
        }
      ]
    },
    {
      "cell_type": "code",
      "source": [
        "!pip install arch\n"
      ],
      "metadata": {
        "colab": {
          "base_uri": "https://localhost:8080/"
        },
        "id": "4gjI0jrsYldr",
        "outputId": "ac2fda1c-bd0c-44b6-8915-78ef5418316c"
      },
      "execution_count": null,
      "outputs": [
        {
          "output_type": "stream",
          "name": "stdout",
          "text": [
            "Requirement already satisfied: arch in /usr/local/lib/python3.10/dist-packages (7.2.0)\n",
            "Requirement already satisfied: numpy>=1.22.3 in /usr/local/lib/python3.10/dist-packages (from arch) (1.26.4)\n",
            "Requirement already satisfied: scipy>=1.8 in /usr/local/lib/python3.10/dist-packages (from arch) (1.13.1)\n",
            "Requirement already satisfied: pandas>=1.4 in /usr/local/lib/python3.10/dist-packages (from arch) (2.2.2)\n",
            "Requirement already satisfied: statsmodels>=0.12 in /usr/local/lib/python3.10/dist-packages (from arch) (0.14.4)\n",
            "Requirement already satisfied: python-dateutil>=2.8.2 in /usr/local/lib/python3.10/dist-packages (from pandas>=1.4->arch) (2.8.2)\n",
            "Requirement already satisfied: pytz>=2020.1 in /usr/local/lib/python3.10/dist-packages (from pandas>=1.4->arch) (2024.2)\n",
            "Requirement already satisfied: tzdata>=2022.7 in /usr/local/lib/python3.10/dist-packages (from pandas>=1.4->arch) (2024.2)\n",
            "Requirement already satisfied: patsy>=0.5.6 in /usr/local/lib/python3.10/dist-packages (from statsmodels>=0.12->arch) (1.0.1)\n",
            "Requirement already satisfied: packaging>=21.3 in /usr/local/lib/python3.10/dist-packages (from statsmodels>=0.12->arch) (24.2)\n",
            "Requirement already satisfied: six>=1.5 in /usr/local/lib/python3.10/dist-packages (from python-dateutil>=2.8.2->pandas>=1.4->arch) (1.16.0)\n"
          ]
        }
      ]
    },
    {
      "cell_type": "markdown",
      "source": [
        "#Step-10"
      ],
      "metadata": {
        "id": "RBY4BXxRaCG-"
      }
    },
    {
      "cell_type": "code",
      "source": [
        "from arch import arch_model\n",
        "\n",
        "# GARCH(1,1) Model\n",
        "log_returns = data['Log Returns'].dropna() * 100  # Scale log returns to percentages for GARCH\n",
        "garch_model = arch_model(log_returns, vol=\"Garch\", p=1, q=1, mean=\"Zero\", dist=\"normal\")\n",
        "garch_result = garch_model.fit(disp=\"off\")\n",
        "\n",
        "# Extract GARCH Annualized Volatility\n",
        "garch_volatility = garch_result.conditional_volatility.mean() * np.sqrt(252) / 100  # Convert to decimal\n",
        "\n",
        "print(f\"GARCH Volatility (Annualized): {garch_volatility:.4f}\")\n",
        "\n",
        "# Black-Scholes with GARCH Volatility\n",
        "call_price_garch = black_scholes(current_price, strike_price_call, time_to_maturity, risk_free_rate, garch_volatility, option_type=\"call\")\n",
        "put_price_garch = black_scholes(current_price, strike_price_put, time_to_maturity, risk_free_rate, garch_volatility, option_type=\"put\")\n",
        "\n",
        "# CRR with GARCH Volatility\n",
        "call_price_crr_garch = crr_binomial_tree(current_price, strike_price_call, time_to_maturity, risk_free_rate, garch_volatility, steps, \"call\")\n",
        "put_price_crr_garch = crr_binomial_tree(current_price, strike_price_put, time_to_maturity, risk_free_rate, garch_volatility, steps, \"put\")\n",
        "\n",
        "# Display Option Prices\n",
        "print(f\"\\nOption Prices Using GARCH Volatility:\")\n",
        "print(f\"Black-Scholes Call Price (GARCH Volatility): {call_price_garch:.2f}\")\n",
        "print(f\"Black-Scholes Put Price (GARCH Volatility): {put_price_garch:.2f}\")\n",
        "print(f\"CRR Call Price (GARCH Volatility): {call_price_crr_garch:.2f}\")\n",
        "print(f\"CRR Put Price (GARCH Volatility): {put_price_crr_garch:.2f}\")\n",
        "\n",
        "# Comparison of Option Prices\n",
        "print(\"\\nComparison of Option Prices:\")\n",
        "print(f\"Black-Scholes Call: {call_price_bs:.2f}, CRR Call: {call_price_crr:.2f}, Black-Scholes Call (GARCH): {call_price_garch:.2f}\")\n",
        "print(f\"Black-Scholes Put: {put_price_bs:.2f}, CRR Put: {put_price_crr:.2f}, Black-Scholes Put (GARCH): {put_price_garch:.2f}\")\n",
        "\n"
      ],
      "metadata": {
        "colab": {
          "base_uri": "https://localhost:8080/"
        },
        "id": "5C4OaXfzYY2t",
        "outputId": "bf800213-8a80-47f0-ed82-9c021fd70e2e"
      },
      "execution_count": null,
      "outputs": [
        {
          "output_type": "stream",
          "name": "stdout",
          "text": [
            "GARCH Volatility (Annualized): 0.3572\n",
            "\n",
            "Option Prices Using GARCH Volatility:\n",
            "Black-Scholes Call Price (GARCH Volatility): 15.37\n",
            "Black-Scholes Put Price (GARCH Volatility): 15.34\n",
            "CRR Call Price (GARCH Volatility): 15.37\n",
            "CRR Put Price (GARCH Volatility): 15.34\n",
            "\n",
            "Comparison of Option Prices:\n",
            "Black-Scholes Call: 15.37, CRR Call: 15.37, Black-Scholes Call (GARCH): 15.37\n",
            "Black-Scholes Put: 15.34, CRR Put: 15.34, Black-Scholes Put (GARCH): 15.34\n"
          ]
        }
      ]
    },
    {
      "cell_type": "code",
      "source": [
        "print(\"\\nComparison of Option Prices:\")\n",
        "print(f\"Black-Scholes Call: {call_price_bs:.2f}, CRR Call: {call_price_crr:.2f}, Black-Scholes Call (GARCH): {call_price_garch:.2f}\")\n",
        "print(f\"Black-Scholes Put: {put_price_bs:.2f}, CRR Put: {put_price_crr:.2f}, Black-Scholes Put (GARCH): {put_price_garch:.2f}\")\n"
      ],
      "metadata": {
        "colab": {
          "base_uri": "https://localhost:8080/"
        },
        "id": "4A8ZW4fjZooP",
        "outputId": "d765a119-7c34-4461-851d-a358f672e5f3"
      },
      "execution_count": null,
      "outputs": [
        {
          "output_type": "stream",
          "name": "stdout",
          "text": [
            "\n",
            "Comparison of Option Prices:\n",
            "Black-Scholes Call: 15.37, CRR Call: 15.37, Black-Scholes Call (GARCH): 15.37\n",
            "Black-Scholes Put: 15.34, CRR Put: 15.34, Black-Scholes Put (GARCH): 15.34\n"
          ]
        }
      ]
    }
  ]
}